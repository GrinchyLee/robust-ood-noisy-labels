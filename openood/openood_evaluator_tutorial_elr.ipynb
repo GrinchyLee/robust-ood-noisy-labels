{
 "cells": [
  {
   "cell_type": "code",
   "execution_count": null,
   "metadata": {
    "id": "dZ3_c6oHkfsb"
   },
   "outputs": [],
   "source": [
    "# necessary imports\n",
    "import torch\n",
    "import pickle\n",
    "from openood.evaluation_api import Evaluator\n",
    "from openood.networks import ResNet18_32x32"
   ]
  },
  {
   "cell_type": "code",
   "execution_count": null,
   "metadata": {},
   "outputs": [],
   "source": [
    "# 파일 경로\n",
    "file_path = '.pth'\n",
    "\n",
    "# 모델 정의\n",
    "net = ResNet18_32x32(num_classes=10)\n",
    "\n",
    "# 저장된 모델 로드\n",
    "checkpoint = torch.load(file_path, map_location=torch.device(\"cuda\"))  # CPU에서도 로드 가능하도록 설정\n",
    "\n",
    "\n",
    "# 모델 가중치 로드\n",
    "net.load_state_dict(checkpoint['state_dict'])\n",
    "\n",
    "# 모델을 GPU로 이동\n",
    "net.cuda()\n",
    "net.eval()"
   ]
  },
  {
   "cell_type": "code",
   "execution_count": null,
   "metadata": {},
   "outputs": [],
   "source": [
    "OOD_list = ['msp', 'odin','ebo','gradnorm','react','mls','klm','vim','knn','dice','rankfeat','ash','she','mds','rmds','gram','mds_ensemble','temp_scaling','openmax']\n",
    "\n",
    "res = []\n",
    "for method in OOD_list:\n",
    "    print(f\"-------------------{method}----------------------\")\n",
    "    postprocessor_name = method\n",
    "    try:\n",
    "        evaluator = Evaluator(\n",
    "            net,\n",
    "            id_name='cifar10',                     \n",
    "            data_root='./data',                    \n",
    "            config_root=None,                      \n",
    "            preprocessor=None,                     \n",
    "            postprocessor_name=postprocessor_name, \n",
    "            postprocessor=None,                    \n",
    "            batch_size=200,                        \n",
    "            shuffle=False,\n",
    "            num_workers=2)                         \n",
    "\n",
    "        metrics = evaluator.eval_ood(fsood=False)\n",
    "        near, far = metrics['AUROC']['nearood'], metrics['AUROC']['farood']\n",
    "        accuracy = metrics['ACC']['nearood']\n",
    "\n",
    "    except Exception as e:\n",
    "        print(f\"Error occurred with method {method}: {e}\")\n",
    "        near, far = 0, 0\n",
    "        accuracy = 0\n",
    "\n",
    "    res_each = [method, near, far]\n",
    "    res.append(res_each)\n",
    "\n",
    "res.append(accuracy)\n",
    "\n",
    "\n",
    "# 지정된 파일 경로\n",
    "file_path = '.pkl'\n",
    "\n",
    "# res 리스트를 pickle 파일로 저장\n",
    "with open(file_path, 'wb') as f:\n",
    "    pickle.dump(res, f)\n",
    "\n",
    "print(f\"Results have been saved to {file_path}\")"
   ]
  }
 ],
 "metadata": {
  "accelerator": "GPU",
  "colab": {
   "gpuType": "T4",
   "provenance": []
  },
  "kernelspec": {
   "display_name": "base",
   "language": "python",
   "name": "python3"
  },
  "language_info": {
   "codemirror_mode": {
    "name": "ipython",
    "version": 3
   },
   "file_extension": ".py",
   "mimetype": "text/x-python",
   "name": "python",
   "nbconvert_exporter": "python",
   "pygments_lexer": "ipython3",
   "version": "3.11.7"
  }
 },
 "nbformat": 4,
 "nbformat_minor": 0
}
